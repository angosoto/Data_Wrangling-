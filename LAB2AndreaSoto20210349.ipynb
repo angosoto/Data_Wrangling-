{
 "cells": [
  {
   "cell_type": "code",
   "execution_count": 6,
   "metadata": {},
   "outputs": [],
   "source": [
    "import numpy as np\n",
    "import pandas as pd\n",
    "import duckdb\n",
    "from pandasql import sqldf\n",
    "heroes_information = pd.read_csv(\"heroes_information.csv\")"
   ]
  },
  {
   "cell_type": "code",
   "execution_count": 7,
   "metadata": {},
   "outputs": [],
   "source": [
    "duck_query = lambda q: duckdb.query(q)\n",
    "pysqldf = lambda q: sqldf(q,globals())"
   ]
  },
  {
   "cell_type": "code",
   "execution_count": 8,
   "metadata": {},
   "outputs": [],
   "source": [
    "###instalar desde anaconda navigator######  \n",
    "####pandasql\n",
    "####mysql\n",
    "####mysql-connector-c\n",
    "####mysql-connector-python\n",
    "from pandas import *"
   ]
  },
  {
   "cell_type": "code",
   "execution_count": 10,
   "metadata": {},
   "outputs": [
    {
     "data": {
      "text/plain": [
       "['.ipynb_checkpoints',\n",
       " 'AndreaSING.R',\n",
       " 'Create_Table.png',\n",
       " 'Create_table_syntax.png',\n",
       " 'data',\n",
       " 'Ejercicio en clase SQL',\n",
       " 'heroes_information.csv',\n",
       " 'IMDB_Schema.png',\n",
       " 'INE_PARQUE_VEHICULAR_080219.txt',\n",
       " 'Intermediate_SQL_Student.ipynb',\n",
       " 'joins.jpg',\n",
       " 'Jupyter Notebook (DATAWRANLING).lnk',\n",
       " 'Jupyter Notebook.lnk',\n",
       " 'Lab1',\n",
       " 'myenv',\n",
       " 'Reset Spyder Settings.lnk',\n",
       " 'set_theory.PNG',\n",
       " 'Spyder.lnk',\n",
       " 'SQL Competition.ipynb',\n",
       " 'Untitled.ipynb',\n",
       " '__MACOSX']"
      ]
     },
     "execution_count": 10,
     "metadata": {},
     "output_type": "execute_result"
    }
   ],
   "source": [
    "####para enlistar los documentos en el directorio#####\n",
    "import os \n",
    "os.listdir( )"
   ]
  },
  {
   "cell_type": "code",
   "execution_count": 11,
   "metadata": {},
   "outputs": [],
   "source": [
    "query1 = \"SELECT * FROM heroes_information limit 10\""
   ]
  },
  {
   "cell_type": "code",
   "execution_count": 12,
   "metadata": {},
   "outputs": [
    {
     "data": {
      "text/html": [
       "<div>\n",
       "<style scoped>\n",
       "    .dataframe tbody tr th:only-of-type {\n",
       "        vertical-align: middle;\n",
       "    }\n",
       "\n",
       "    .dataframe tbody tr th {\n",
       "        vertical-align: top;\n",
       "    }\n",
       "\n",
       "    .dataframe thead th {\n",
       "        text-align: right;\n",
       "    }\n",
       "</style>\n",
       "<table border=\"1\" class=\"dataframe\">\n",
       "  <thead>\n",
       "    <tr style=\"text-align: right;\">\n",
       "      <th></th>\n",
       "      <th>id</th>\n",
       "      <th>name</th>\n",
       "      <th>Gender</th>\n",
       "      <th>Eye color</th>\n",
       "      <th>Race</th>\n",
       "      <th>Hair color</th>\n",
       "      <th>Height</th>\n",
       "      <th>Publisher</th>\n",
       "      <th>Skin color</th>\n",
       "      <th>Alignment</th>\n",
       "      <th>Weight</th>\n",
       "    </tr>\n",
       "  </thead>\n",
       "  <tbody>\n",
       "    <tr>\n",
       "      <th>0</th>\n",
       "      <td>0</td>\n",
       "      <td>A-Bomb</td>\n",
       "      <td>Male</td>\n",
       "      <td>yellow</td>\n",
       "      <td>Human</td>\n",
       "      <td>No Hair</td>\n",
       "      <td>203.0</td>\n",
       "      <td>Marvel Comics</td>\n",
       "      <td>None</td>\n",
       "      <td>good</td>\n",
       "      <td>441.0</td>\n",
       "    </tr>\n",
       "    <tr>\n",
       "      <th>1</th>\n",
       "      <td>1</td>\n",
       "      <td>Abe Sapien</td>\n",
       "      <td>Male</td>\n",
       "      <td>blue</td>\n",
       "      <td>Icthyo Sapien</td>\n",
       "      <td>No Hair</td>\n",
       "      <td>191.0</td>\n",
       "      <td>Dark Horse Comics</td>\n",
       "      <td>blue</td>\n",
       "      <td>good</td>\n",
       "      <td>65.0</td>\n",
       "    </tr>\n",
       "    <tr>\n",
       "      <th>2</th>\n",
       "      <td>2</td>\n",
       "      <td>Abin Sur</td>\n",
       "      <td>Male</td>\n",
       "      <td>blue</td>\n",
       "      <td>Ungaran</td>\n",
       "      <td>No Hair</td>\n",
       "      <td>185.0</td>\n",
       "      <td>DC Comics</td>\n",
       "      <td>red</td>\n",
       "      <td>good</td>\n",
       "      <td>90.0</td>\n",
       "    </tr>\n",
       "    <tr>\n",
       "      <th>3</th>\n",
       "      <td>3</td>\n",
       "      <td>Abomination</td>\n",
       "      <td>Male</td>\n",
       "      <td>green</td>\n",
       "      <td>Human / Radiation</td>\n",
       "      <td>No Hair</td>\n",
       "      <td>203.0</td>\n",
       "      <td>Marvel Comics</td>\n",
       "      <td>None</td>\n",
       "      <td>bad</td>\n",
       "      <td>441.0</td>\n",
       "    </tr>\n",
       "    <tr>\n",
       "      <th>4</th>\n",
       "      <td>4</td>\n",
       "      <td>Abraxas</td>\n",
       "      <td>Male</td>\n",
       "      <td>blue</td>\n",
       "      <td>Cosmic Entity</td>\n",
       "      <td>Black</td>\n",
       "      <td>-99.0</td>\n",
       "      <td>Marvel Comics</td>\n",
       "      <td>None</td>\n",
       "      <td>bad</td>\n",
       "      <td>-99.0</td>\n",
       "    </tr>\n",
       "    <tr>\n",
       "      <th>5</th>\n",
       "      <td>5</td>\n",
       "      <td>Absorbing Man</td>\n",
       "      <td>Male</td>\n",
       "      <td>blue</td>\n",
       "      <td>Human</td>\n",
       "      <td>No Hair</td>\n",
       "      <td>193.0</td>\n",
       "      <td>Marvel Comics</td>\n",
       "      <td>None</td>\n",
       "      <td>bad</td>\n",
       "      <td>122.0</td>\n",
       "    </tr>\n",
       "    <tr>\n",
       "      <th>6</th>\n",
       "      <td>6</td>\n",
       "      <td>Adam Monroe</td>\n",
       "      <td>Male</td>\n",
       "      <td>blue</td>\n",
       "      <td>None</td>\n",
       "      <td>Blond</td>\n",
       "      <td>-99.0</td>\n",
       "      <td>NBC - Heroes</td>\n",
       "      <td>None</td>\n",
       "      <td>good</td>\n",
       "      <td>-99.0</td>\n",
       "    </tr>\n",
       "    <tr>\n",
       "      <th>7</th>\n",
       "      <td>7</td>\n",
       "      <td>Adam Strange</td>\n",
       "      <td>Male</td>\n",
       "      <td>blue</td>\n",
       "      <td>Human</td>\n",
       "      <td>Blond</td>\n",
       "      <td>185.0</td>\n",
       "      <td>DC Comics</td>\n",
       "      <td>None</td>\n",
       "      <td>good</td>\n",
       "      <td>88.0</td>\n",
       "    </tr>\n",
       "    <tr>\n",
       "      <th>8</th>\n",
       "      <td>8</td>\n",
       "      <td>Agent 13</td>\n",
       "      <td>Female</td>\n",
       "      <td>blue</td>\n",
       "      <td>None</td>\n",
       "      <td>Blond</td>\n",
       "      <td>173.0</td>\n",
       "      <td>Marvel Comics</td>\n",
       "      <td>None</td>\n",
       "      <td>good</td>\n",
       "      <td>61.0</td>\n",
       "    </tr>\n",
       "    <tr>\n",
       "      <th>9</th>\n",
       "      <td>9</td>\n",
       "      <td>Agent Bob</td>\n",
       "      <td>Male</td>\n",
       "      <td>brown</td>\n",
       "      <td>Human</td>\n",
       "      <td>Brown</td>\n",
       "      <td>178.0</td>\n",
       "      <td>Marvel Comics</td>\n",
       "      <td>None</td>\n",
       "      <td>good</td>\n",
       "      <td>81.0</td>\n",
       "    </tr>\n",
       "  </tbody>\n",
       "</table>\n",
       "</div>"
      ],
      "text/plain": [
       "   id           name  Gender Eye color               Race Hair color  Height  \\\n",
       "0   0         A-Bomb    Male    yellow              Human    No Hair   203.0   \n",
       "1   1     Abe Sapien    Male      blue      Icthyo Sapien    No Hair   191.0   \n",
       "2   2       Abin Sur    Male      blue            Ungaran    No Hair   185.0   \n",
       "3   3    Abomination    Male     green  Human / Radiation    No Hair   203.0   \n",
       "4   4        Abraxas    Male      blue      Cosmic Entity      Black   -99.0   \n",
       "5   5  Absorbing Man    Male      blue              Human    No Hair   193.0   \n",
       "6   6    Adam Monroe    Male      blue               None      Blond   -99.0   \n",
       "7   7   Adam Strange    Male      blue              Human      Blond   185.0   \n",
       "8   8       Agent 13  Female      blue               None      Blond   173.0   \n",
       "9   9      Agent Bob    Male     brown              Human      Brown   178.0   \n",
       "\n",
       "           Publisher Skin color Alignment  Weight  \n",
       "0      Marvel Comics       None      good   441.0  \n",
       "1  Dark Horse Comics       blue      good    65.0  \n",
       "2          DC Comics        red      good    90.0  \n",
       "3      Marvel Comics       None       bad   441.0  \n",
       "4      Marvel Comics       None       bad   -99.0  \n",
       "5      Marvel Comics       None       bad   122.0  \n",
       "6       NBC - Heroes       None      good   -99.0  \n",
       "7          DC Comics       None      good    88.0  \n",
       "8      Marvel Comics       None      good    61.0  \n",
       "9      Marvel Comics       None      good    81.0  "
      ]
     },
     "execution_count": 12,
     "metadata": {},
     "output_type": "execute_result"
    }
   ],
   "source": [
    "pysqldf(query1)"
   ]
  },
  {
   "cell_type": "code",
   "execution_count": 13,
   "metadata": {},
   "outputs": [],
   "source": [
    "query1 = \"\"\"\n",
    "SELECT *\n",
    "FROM heroes_information\n",
    "WHERE Race='Human'\n",
    "AND Height > 200;\n",
    "\n",
    "\"\"\""
   ]
  },
  {
   "cell_type": "code",
   "execution_count": 14,
   "metadata": {
    "scrolled": true
   },
   "outputs": [
    {
     "data": {
      "text/html": [
       "<div>\n",
       "<style scoped>\n",
       "    .dataframe tbody tr th:only-of-type {\n",
       "        vertical-align: middle;\n",
       "    }\n",
       "\n",
       "    .dataframe tbody tr th {\n",
       "        vertical-align: top;\n",
       "    }\n",
       "\n",
       "    .dataframe thead th {\n",
       "        text-align: right;\n",
       "    }\n",
       "</style>\n",
       "<table border=\"1\" class=\"dataframe\">\n",
       "  <thead>\n",
       "    <tr style=\"text-align: right;\">\n",
       "      <th></th>\n",
       "      <th>id</th>\n",
       "      <th>name</th>\n",
       "      <th>Gender</th>\n",
       "      <th>Eye color</th>\n",
       "      <th>Race</th>\n",
       "      <th>Hair color</th>\n",
       "      <th>Height</th>\n",
       "      <th>Publisher</th>\n",
       "      <th>Skin color</th>\n",
       "      <th>Alignment</th>\n",
       "      <th>Weight</th>\n",
       "    </tr>\n",
       "  </thead>\n",
       "  <tbody>\n",
       "    <tr>\n",
       "      <th>0</th>\n",
       "      <td>0</td>\n",
       "      <td>A-Bomb</td>\n",
       "      <td>Male</td>\n",
       "      <td>yellow</td>\n",
       "      <td>Human</td>\n",
       "      <td>No Hair</td>\n",
       "      <td>203.0</td>\n",
       "      <td>Marvel Comics</td>\n",
       "      <td>None</td>\n",
       "      <td>good</td>\n",
       "      <td>441.0</td>\n",
       "    </tr>\n",
       "    <tr>\n",
       "      <th>1</th>\n",
       "      <td>29</td>\n",
       "      <td>Ant-Man</td>\n",
       "      <td>Male</td>\n",
       "      <td>blue</td>\n",
       "      <td>Human</td>\n",
       "      <td>Blond</td>\n",
       "      <td>211.0</td>\n",
       "      <td>Marvel Comics</td>\n",
       "      <td>None</td>\n",
       "      <td>good</td>\n",
       "      <td>122.0</td>\n",
       "    </tr>\n",
       "    <tr>\n",
       "      <th>2</th>\n",
       "      <td>59</td>\n",
       "      <td>Bane</td>\n",
       "      <td>Male</td>\n",
       "      <td>None</td>\n",
       "      <td>Human</td>\n",
       "      <td>None</td>\n",
       "      <td>203.0</td>\n",
       "      <td>DC Comics</td>\n",
       "      <td>None</td>\n",
       "      <td>bad</td>\n",
       "      <td>180.0</td>\n",
       "    </tr>\n",
       "    <tr>\n",
       "      <th>3</th>\n",
       "      <td>119</td>\n",
       "      <td>Bloodaxe</td>\n",
       "      <td>Female</td>\n",
       "      <td>blue</td>\n",
       "      <td>Human</td>\n",
       "      <td>Brown</td>\n",
       "      <td>218.0</td>\n",
       "      <td>Marvel Comics</td>\n",
       "      <td>None</td>\n",
       "      <td>bad</td>\n",
       "      <td>495.0</td>\n",
       "    </tr>\n",
       "    <tr>\n",
       "      <th>4</th>\n",
       "      <td>221</td>\n",
       "      <td>Doctor Doom</td>\n",
       "      <td>Male</td>\n",
       "      <td>brown</td>\n",
       "      <td>Human</td>\n",
       "      <td>Brown</td>\n",
       "      <td>201.0</td>\n",
       "      <td>Marvel Comics</td>\n",
       "      <td>None</td>\n",
       "      <td>bad</td>\n",
       "      <td>187.0</td>\n",
       "    </tr>\n",
       "    <tr>\n",
       "      <th>5</th>\n",
       "      <td>373</td>\n",
       "      <td>Juggernaut</td>\n",
       "      <td>Male</td>\n",
       "      <td>blue</td>\n",
       "      <td>Human</td>\n",
       "      <td>Red</td>\n",
       "      <td>287.0</td>\n",
       "      <td>Marvel Comics</td>\n",
       "      <td>None</td>\n",
       "      <td>neutral</td>\n",
       "      <td>855.0</td>\n",
       "    </tr>\n",
       "    <tr>\n",
       "      <th>6</th>\n",
       "      <td>391</td>\n",
       "      <td>Kingpin</td>\n",
       "      <td>Male</td>\n",
       "      <td>blue</td>\n",
       "      <td>Human</td>\n",
       "      <td>No Hair</td>\n",
       "      <td>201.0</td>\n",
       "      <td>Marvel Comics</td>\n",
       "      <td>None</td>\n",
       "      <td>bad</td>\n",
       "      <td>203.0</td>\n",
       "    </tr>\n",
       "    <tr>\n",
       "      <th>7</th>\n",
       "      <td>412</td>\n",
       "      <td>Lizard</td>\n",
       "      <td>Male</td>\n",
       "      <td>red</td>\n",
       "      <td>Human</td>\n",
       "      <td>No Hair</td>\n",
       "      <td>203.0</td>\n",
       "      <td>Marvel Comics</td>\n",
       "      <td>None</td>\n",
       "      <td>bad</td>\n",
       "      <td>230.0</td>\n",
       "    </tr>\n",
       "    <tr>\n",
       "      <th>8</th>\n",
       "      <td>476</td>\n",
       "      <td>Mr Incredible</td>\n",
       "      <td>Male</td>\n",
       "      <td>blue</td>\n",
       "      <td>Human</td>\n",
       "      <td>Blond</td>\n",
       "      <td>201.0</td>\n",
       "      <td>Dark Horse Comics</td>\n",
       "      <td>None</td>\n",
       "      <td>good</td>\n",
       "      <td>158.0</td>\n",
       "    </tr>\n",
       "    <tr>\n",
       "      <th>9</th>\n",
       "      <td>557</td>\n",
       "      <td>Rey</td>\n",
       "      <td>Female</td>\n",
       "      <td>hazel</td>\n",
       "      <td>Human</td>\n",
       "      <td>Brown</td>\n",
       "      <td>297.0</td>\n",
       "      <td>George Lucas</td>\n",
       "      <td>None</td>\n",
       "      <td>good</td>\n",
       "      <td>-99.0</td>\n",
       "    </tr>\n",
       "    <tr>\n",
       "      <th>10</th>\n",
       "      <td>583</td>\n",
       "      <td>Scorpion</td>\n",
       "      <td>Male</td>\n",
       "      <td>brown</td>\n",
       "      <td>Human</td>\n",
       "      <td>Brown</td>\n",
       "      <td>211.0</td>\n",
       "      <td>Marvel Comics</td>\n",
       "      <td>None</td>\n",
       "      <td>bad</td>\n",
       "      <td>310.0</td>\n",
       "    </tr>\n",
       "    <tr>\n",
       "      <th>11</th>\n",
       "      <td>591</td>\n",
       "      <td>She-Hulk</td>\n",
       "      <td>Female</td>\n",
       "      <td>green</td>\n",
       "      <td>Human</td>\n",
       "      <td>Green</td>\n",
       "      <td>201.0</td>\n",
       "      <td>Marvel Comics</td>\n",
       "      <td>None</td>\n",
       "      <td>good</td>\n",
       "      <td>315.0</td>\n",
       "    </tr>\n",
       "  </tbody>\n",
       "</table>\n",
       "</div>"
      ],
      "text/plain": [
       "     id           name  Gender Eye color   Race Hair color  Height  \\\n",
       "0     0         A-Bomb    Male    yellow  Human    No Hair   203.0   \n",
       "1    29        Ant-Man    Male      blue  Human      Blond   211.0   \n",
       "2    59           Bane    Male      None  Human       None   203.0   \n",
       "3   119       Bloodaxe  Female      blue  Human      Brown   218.0   \n",
       "4   221    Doctor Doom    Male     brown  Human      Brown   201.0   \n",
       "5   373     Juggernaut    Male      blue  Human        Red   287.0   \n",
       "6   391        Kingpin    Male      blue  Human    No Hair   201.0   \n",
       "7   412         Lizard    Male       red  Human    No Hair   203.0   \n",
       "8   476  Mr Incredible    Male      blue  Human      Blond   201.0   \n",
       "9   557            Rey  Female     hazel  Human      Brown   297.0   \n",
       "10  583       Scorpion    Male     brown  Human      Brown   211.0   \n",
       "11  591       She-Hulk  Female     green  Human      Green   201.0   \n",
       "\n",
       "            Publisher Skin color Alignment  Weight  \n",
       "0       Marvel Comics       None      good   441.0  \n",
       "1       Marvel Comics       None      good   122.0  \n",
       "2           DC Comics       None       bad   180.0  \n",
       "3       Marvel Comics       None       bad   495.0  \n",
       "4       Marvel Comics       None       bad   187.0  \n",
       "5       Marvel Comics       None   neutral   855.0  \n",
       "6       Marvel Comics       None       bad   203.0  \n",
       "7       Marvel Comics       None       bad   230.0  \n",
       "8   Dark Horse Comics       None      good   158.0  \n",
       "9        George Lucas       None      good   -99.0  \n",
       "10      Marvel Comics       None       bad   310.0  \n",
       "11      Marvel Comics       None      good   315.0  "
      ]
     },
     "execution_count": 14,
     "metadata": {},
     "output_type": "execute_result"
    }
   ],
   "source": [
    "pysqldf(query1)"
   ]
  },
  {
   "cell_type": "code",
   "execution_count": 15,
   "metadata": {},
   "outputs": [
    {
     "data": {
      "text/html": [
       "<div>\n",
       "<style scoped>\n",
       "    .dataframe tbody tr th:only-of-type {\n",
       "        vertical-align: middle;\n",
       "    }\n",
       "\n",
       "    .dataframe tbody tr th {\n",
       "        vertical-align: top;\n",
       "    }\n",
       "\n",
       "    .dataframe thead th {\n",
       "        text-align: right;\n",
       "    }\n",
       "</style>\n",
       "<table border=\"1\" class=\"dataframe\">\n",
       "  <thead>\n",
       "    <tr style=\"text-align: right;\">\n",
       "      <th></th>\n",
       "      <th>Publisher</th>\n",
       "      <th>superhero_count</th>\n",
       "    </tr>\n",
       "  </thead>\n",
       "  <tbody>\n",
       "    <tr>\n",
       "      <th>0</th>\n",
       "      <td>DC Comics</td>\n",
       "      <td>215</td>\n",
       "    </tr>\n",
       "    <tr>\n",
       "      <th>1</th>\n",
       "      <td>Dark Horse Comics</td>\n",
       "      <td>18</td>\n",
       "    </tr>\n",
       "    <tr>\n",
       "      <th>2</th>\n",
       "      <td>Marvel Comics</td>\n",
       "      <td>388</td>\n",
       "    </tr>\n",
       "    <tr>\n",
       "      <th>3</th>\n",
       "      <td>NBC - Heroes</td>\n",
       "      <td>19</td>\n",
       "    </tr>\n",
       "  </tbody>\n",
       "</table>\n",
       "</div>"
      ],
      "text/plain": [
       "           Publisher  superhero_count\n",
       "0          DC Comics              215\n",
       "1  Dark Horse Comics               18\n",
       "2      Marvel Comics              388\n",
       "3       NBC - Heroes               19"
      ]
     },
     "execution_count": 15,
     "metadata": {},
     "output_type": "execute_result"
    }
   ],
   "source": [
    "query5 = \"\"\" \n",
    "SELECT publisher, COUNT(*) AS superhero_count\n",
    "FROM heroes_information\n",
    "GROUP BY publisher\n",
    "HAVING COUNT(*) > 15;\n",
    "\"\"\"\n",
    "pysqldf(query5)\n",
    "\n",
    "\n",
    "\n"
   ]
  },
  {
   "cell_type": "code",
   "execution_count": 20,
   "metadata": {},
   "outputs": [
    {
     "data": {
      "text/plain": [
       "┌─────────┐\n",
       "│  name   │\n",
       "│ varchar │\n",
       "├─────────┤\n",
       "│ A-Bomb  │\n",
       "└─────────┘"
      ]
     },
     "execution_count": 20,
     "metadata": {},
     "output_type": "execute_result"
    }
   ],
   "source": [
    "#Cuál es el nombre del primer superhéroe de la tabla heroes?\n",
    "duck_query (\n",
    "\"\"\"\n",
    "SELECT name \n",
    "FROM heroes_information\n",
    "LIMIT 1;\n",
    "\"\"\"\n",
    ")"
   ]
  },
  {
   "cell_type": "code",
   "execution_count": 25,
   "metadata": {},
   "outputs": [
    {
     "data": {
      "text/plain": [
       "┌───────────────────────────┐\n",
       "│ count(DISTINCT Publisher) │\n",
       "│           int64           │\n",
       "├───────────────────────────┤\n",
       "│                        24 │\n",
       "└───────────────────────────┘"
      ]
     },
     "execution_count": 25,
     "metadata": {},
     "output_type": "execute_result"
    }
   ],
   "source": [
    "#Cuántas casas publicadoras existen?\n",
    "duck_query(\n",
    "    \"\"\"\n",
    "    SELECT COUNT (DISTINCT Publisher)\n",
    "    FROM  heroes_information\n",
    "    AS 'Conteo casas productoras' ;\n",
    "\n",
    "    \"\"\"\n",
    ")"
   ]
  },
  {
   "cell_type": "code",
   "execution_count": 33,
   "metadata": {},
   "outputs": [
    {
     "data": {
      "text/plain": [
       "┌───────────────┐\n",
       "│ count(\"name\") │\n",
       "│     int64     │\n",
       "├───────────────┤\n",
       "│            59 │\n",
       "└───────────────┘"
      ]
     },
     "execution_count": 33,
     "metadata": {},
     "output_type": "execute_result"
    }
   ],
   "source": [
    "#Cuántos superhéroes miden más de 2 metros (200 cms)\n",
    "duck_query(\n",
    "    \"\"\"\n",
    "    SELECT COUNT (name)\n",
    "    FROM heroes_information\n",
    "    WHERE Height > 200\n",
    "    ;\n",
    "    \"\"\"\n",
    ")\n"
   ]
  },
  {
   "cell_type": "code",
   "execution_count": 34,
   "metadata": {},
   "outputs": [
    {
     "data": {
      "text/plain": [
       "┌───────────────┐\n",
       "│ count(\"name\") │\n",
       "│     int64     │\n",
       "├───────────────┤\n",
       "│            12 │\n",
       "└───────────────┘"
      ]
     },
     "execution_count": 34,
     "metadata": {},
     "output_type": "execute_result"
    }
   ],
   "source": [
    "#Cuántos superhéroes son humanos y miden más de 2 metros (200 cms)?\n",
    "duck_query(\n",
    "    \"\"\"\n",
    "    SELECT COUNT (name)\n",
    "    FROM heroes_information\n",
    "    WHERE (Race = 'Human' AND Height > 200)\n",
    "\n",
    "    \"\"\"\n",
    "\n",
    "    \n",
    ")"
   ]
  },
  {
   "cell_type": "code",
   "execution_count": 35,
   "metadata": {},
   "outputs": [
    {
     "data": {
      "text/plain": [
       "┌───────────┐\n",
       "│ 100<w<200 │\n",
       "│   int64   │\n",
       "├───────────┤\n",
       "│        98 │\n",
       "└───────────┘"
      ]
     },
     "execution_count": 35,
     "metadata": {},
     "output_type": "execute_result"
    }
   ],
   "source": [
    "#Cuántos superhéroes pesan más de 100 lbs y menos de 200 lbs?\n",
    "duck_query(\n",
    "    \"\"\"\n",
    "    SELECT COUNT (name) AS '100<w<200'\n",
    "    FROM heroes_information\n",
    "    WHERE (Weight > 100 AND Weight < 200)\n",
    "\n",
    "    \"\"\"\n",
    ")"
   ]
  },
  {
   "cell_type": "code",
   "execution_count": 40,
   "metadata": {},
   "outputs": [
    {
     "data": {
      "text/plain": [
       "┌───────────────────┐\n",
       "│  ojos azul o rojo │\n",
       "│       int64       │\n",
       "├───────────────────┤\n",
       "│               271 │\n",
       "└───────────────────┘"
      ]
     },
     "execution_count": 40,
     "metadata": {},
     "output_type": "execute_result"
    }
   ],
   "source": [
    "#Cuántos superhéroes tienen los ojos de color azul o rojo?\n",
    "duck_query(\n",
    "    \"\"\"\n",
    "    SELECT COUNT (name) AS ' ojos azul o rojo' \n",
    "    FROM heroes_information\n",
    "    WHERE (\"Eye color\" = 'red' OR \"Eye color\" = 'blue')\n",
    "    \n",
    "\n",
    "    \"\"\"\n",
    ")"
   ]
  },
  {
   "cell_type": "code",
   "execution_count": 42,
   "metadata": {},
   "outputs": [
    {
     "data": {
      "text/plain": [
       "┌───────────────┐\n",
       "│ count(\"name\") │\n",
       "│     int64     │\n",
       "├───────────────┤\n",
       "│             1 │\n",
       "└───────────────┘"
      ]
     },
     "execution_count": 42,
     "metadata": {},
     "output_type": "execute_result"
    }
   ],
   "source": [
    "#Cuántos superhéroes son Human, Mutant y tienen el pelo color Verde o son Vampiros con pelo Negro\n",
    "duck_query(\n",
    "    \"\"\"\n",
    "    SELECT COUNT(name) \n",
    "    FROM heroes_information \n",
    "    WHERE (Race = 'Human' AND Race = 'Mutant' AND \"Hair color\" = 'green')\n",
    "    OR (Race = 'Vampire' AND \"Hair color\" = 'Black')\n",
    "    \"\"\"\n",
    ")\n"
   ]
  },
  {
   "cell_type": "code",
   "execution_count": 43,
   "metadata": {},
   "outputs": [
    {
     "data": {
      "text/plain": [
       "┌────────────────┐\n",
       "│      name      │\n",
       "│    varchar     │\n",
       "├────────────────┤\n",
       "│ Solomon Grundy │\n",
       "└────────────────┘"
      ]
     },
     "execution_count": 43,
     "metadata": {},
     "output_type": "execute_result"
    }
   ],
   "source": [
    "# Cuál es el nombre del primer superhéroe si ordeno la tabla por raza en orden descendente?\n",
    "duck_query (\n",
    "    \"\"\"\n",
    "    SELECT name \n",
    "    FROM heroes_information \n",
    "    ORDER BY race DESC \n",
    "    LIMIT 1 \n",
    "    \"\"\"\n",
    "    \n",
    ")"
   ]
  },
  {
   "cell_type": "code",
   "execution_count": 45,
   "metadata": {},
   "outputs": [
    {
     "name": "stdout",
     "output_type": "stream",
     "text": [
      "Object `femenino` not found.\n"
     ]
    },
    {
     "data": {
      "text/plain": [
       "┌─────────┬───────┐\n",
       "│ Gender  │ count │\n",
       "│ varchar │ int64 │\n",
       "├─────────┼───────┤\n",
       "│ Male    │   505 │\n",
       "│ Female  │   200 │\n",
       "└─────────┴───────┘"
      ]
     },
     "execution_count": 45,
     "metadata": {},
     "output_type": "execute_result"
    }
   ],
   "source": [
    "#Cuántos superhéroes son de género masculino y cuántas de género femenino?\n",
    "duck_query(\n",
    "    \"\"\"\n",
    "    SELECT Gender, COUNT(name) AS count\n",
    "    FROM heroes_information\n",
    "    WHERE Gender IN ('Male', 'Female')\n",
    "    GROUP BY Gender\n",
    "    \"\"\"\n",
    ")\n"
   ]
  },
  {
   "cell_type": "code",
   "execution_count": 46,
   "metadata": {},
   "outputs": [
    {
     "data": {
      "text/plain": [
       "┌───────────────────┬───────────────┐\n",
       "│     Publisher     │ count(\"name\") │\n",
       "│      varchar      │     int64     │\n",
       "├───────────────────┼───────────────┤\n",
       "│ Marvel Comics     │           388 │\n",
       "│ DC Comics         │           215 │\n",
       "│ Dark Horse Comics │            18 │\n",
       "│ NBC - Heroes      │            19 │\n",
       "└───────────────────┴───────────────┘"
      ]
     },
     "execution_count": 46,
     "metadata": {},
     "output_type": "execute_result"
    }
   ],
   "source": [
    "#Cuántas casas publicadoras tienen más de 15 superhéroes?\n",
    "duck_query(\n",
    "    \"\"\"\n",
    "    SELECT Publisher, COUNT(name) \n",
    "    FROM heroes_information\n",
    "    GROUP BY Publisher\n",
    "    HAVING COUNT(name) > 15\n",
    "    \"\"\"\n",
    ")\n"
   ]
  },
  {
   "cell_type": "code",
   "execution_count": null,
   "metadata": {},
   "outputs": [],
   "source": []
  }
 ],
 "metadata": {
  "kernelspec": {
   "display_name": "Python 3 (ipykernel)",
   "language": "python",
   "name": "python3"
  },
  "language_info": {
   "codemirror_mode": {
    "name": "ipython",
    "version": 3
   },
   "file_extension": ".py",
   "mimetype": "text/x-python",
   "name": "python",
   "nbconvert_exporter": "python",
   "pygments_lexer": "ipython3",
   "version": "3.12.4"
  }
 },
 "nbformat": 4,
 "nbformat_minor": 4
}
